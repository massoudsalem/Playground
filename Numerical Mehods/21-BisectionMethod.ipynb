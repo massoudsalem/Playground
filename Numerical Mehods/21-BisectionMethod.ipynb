{
 "cells": [
  {
   "cell_type": "code",
   "execution_count": 1,
   "metadata": {},
   "outputs": [],
   "source": [
    "import numpy as np\n",
    "from sympy import *\n",
    "init_printing()"
   ]
  },
  {
   "cell_type": "code",
   "execution_count": 2,
   "metadata": {},
   "outputs": [],
   "source": [
    "def bisectionMethod(fx, a, b, tolerance, maxItr):\n",
    "    '''\n",
    "        Bisection(Binary-Search method) is a numerical method that is used To find a solution to f (x) = 0 given\n",
    "    the continuous function f on the interval [a, b], where f (a) and f (b) have opposite signs.\n",
    "    '''\n",
    "\n",
    "    i=1                                     # set i to 1 as the start iteration value\n",
    "    fa=fx(a)                                # find the value of the f(x) at the end-point (a)\n",
    "    \n",
    "    print(f\"{str('_')*75} \\n{' '*22}A {' '*20}B {' '*20}P {' '*3}f(p) \\n{str('_')*75}\") #table heading\n",
    "    \n",
    "    while i <= maxItr :                     # while the code doesn't excesed the max. number of iterations do algo.\n",
    "        p = a + (b-a) / 2                   # find the point between a and b.\n",
    "        fp = fx(p)                          # find the value of the point in the function f(x).\n",
    "\n",
    "        if fp == 0 or (b-a)/2 < tolerance:  # if f(p) = 0 or the differance between\n",
    "                                            #  the end points < tolerance print solution.\n",
    "            print('_'*75+'\\n')\n",
    "            print(f\"*The solution found after {i} iteration and it\\'s at p = {p}.\\n\")\n",
    "            return                          # Stop the algo.\n",
    "        \n",
    "        print(f\"   {a:{20}} | {b:{20}} | {p:{20}} | {'+ve'if fp > 0 else '-ve':{20}}\") #printing table\n",
    "        \n",
    "        i+=1                                # Increase the number of iterations\n",
    "        if fa * fp > 0 :                    # if( f(p) is same sign of the f(a) remove the lower side of function)\n",
    "            a=p\n",
    "            fa=fp                           # The condition of the algo\n",
    "        else :                              # if( f(p) is same sign of the f(a) remove the upper side of function)\n",
    "            b=p\n",
    "              \n",
    "    print(f\"*Method failed after {i} iterations.\")\n"
   ]
  },
  {
   "cell_type": "code",
   "execution_count": 7,
   "metadata": {},
   "outputs": [
    {
     "name": "stdout",
     "output_type": "stream",
     "text": [
      "exp(x)-3*x\n",
      "___________________________________________________________________________ \n",
      "                      A                     B                     P    f(p) \n",
      "___________________________________________________________________________\n",
      "                    0.5 |                    1 |                 0.75 | -ve                 \n",
      "                    0.5 |                 0.75 |                0.625 | -ve                 \n",
      "                    0.5 |                0.625 |               0.5625 | +ve                 \n",
      "                 0.5625 |                0.625 |              0.59375 | +ve                 \n",
      "                0.59375 |                0.625 |             0.609375 | +ve                 \n",
      "               0.609375 |                0.625 |            0.6171875 | +ve                 \n",
      "              0.6171875 |                0.625 |           0.62109375 | -ve                 \n",
      "              0.6171875 |           0.62109375 |          0.619140625 | -ve                 \n",
      "              0.6171875 |          0.619140625 |         0.6181640625 | +ve                 \n",
      "           0.6181640625 |          0.619140625 |        0.61865234375 | +ve                 \n",
      "          0.61865234375 |          0.619140625 |       0.618896484375 | +ve                 \n",
      "         0.618896484375 |          0.619140625 |      0.6190185546875 | +ve                 \n",
      "___________________________________________________________________________\n",
      "\n",
      "*The solution found after 13 iteration and it's at p = 0.61907958984375.\n",
      "\n"
     ]
    }
   ],
   "source": [
    "inEq=simplify(input())\n",
    "\n",
    "x=Symbol('x')\n",
    "fx=lambdify(x,inEq) #generate a lambda expresssion with evlf\n",
    "\n",
    "bisectionMethod(fx,0.5,1,1e-4,100)"
   ]
  },
  {
   "cell_type": "code",
   "execution_count": null,
   "metadata": {},
   "outputs": [],
   "source": []
  }
 ],
 "metadata": {
  "kernelspec": {
   "display_name": "Python 3",
   "language": "python",
   "name": "python3"
  },
  "language_info": {
   "codemirror_mode": {
    "name": "ipython",
    "version": 3
   },
   "file_extension": ".py",
   "mimetype": "text/x-python",
   "name": "python",
   "nbconvert_exporter": "python",
   "pygments_lexer": "ipython3",
   "version": "3.7.1"
  }
 },
 "nbformat": 4,
 "nbformat_minor": 2
}
