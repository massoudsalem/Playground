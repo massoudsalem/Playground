{
 "cells": [
  {
   "cell_type": "code",
   "execution_count": 1,
   "metadata": {},
   "outputs": [],
   "source": [
    "import numpy as np\n",
    "from sympy import *\n",
    "init_printing()"
   ]
  },
  {
   "cell_type": "code",
   "execution_count": 2,
   "metadata": {},
   "outputs": [],
   "source": [
    "def interpolationPyramid(arr) :\n",
    "    sz=arr[1].size                                         # save array size for later usage\n",
    "    pyramid=np.zeros((sz,sz))                              # squre matrix (zero elements) of the same size\n",
    "    \n",
    "    pyramid[:,0]=arr[1]                                    # put y in first column\n",
    "    \n",
    "    for i in range(1,sz) :\n",
    "        for j in range(sz-i) :\n",
    "            pyramid[j,i]=pyramid[j+1,i-1]-pyramid[j,i-1]   # subtract each element from above\n",
    "    \n",
    "    return pyramid                                         # return the interpolation pyramid matrix"
   ]
  },
  {
   "cell_type": "code",
   "execution_count": 3,
   "metadata": {},
   "outputs": [],
   "source": [
    "def newtonInterpolation(arr, forward = true) :\n",
    "    \n",
    "    x0 = arr[0][0]                                               # define x0\n",
    "    h  = arr[0][0] - arr[0][1]                                   # define h\n",
    "    \n",
    "    pyramid = interpolationPyramid(arr)                          # get the interpolatate pyramid\n",
    "    sz = len(pyramid[0])                                         # save the size of the pyramid row\n",
    "    coeffs = []                                                  # array for saving coeffs\n",
    "    #print(pyramid , sz)\n",
    "    if forward :                                                 # forward interpolation\n",
    "        coeffs = pyramid[0]\n",
    "    \n",
    "    else :\n",
    "        coeffs = [pyramid[i][sz-1-i] for i in range(sz-1,-1,-1)] # list compriphsion for reverse diagonal of the pyramid\n",
    "        \n",
    "    #print(coeffs)\n",
    "    p = -( Symbol('x') - x0 ) / h                                # get the p\n",
    "    poly = simplify(coeffs[0])                                   # start polynomaial with coeff.'s of y\n",
    "\n",
    "    for dy in range(1, len(coeffs)) :                            # loop for creating poly.\n",
    "        temp = p                                                 # temp var for p \n",
    "        #print(poly)\n",
    "        for u in range(1, dy):\n",
    "            temp *= p - u if forward else p + u                  # multiplication of p terms\n",
    "        poly = poly + ((coeffs[dy] * temp)/np.math.factorial(dy))# finalize the polynomial\n",
    "    \n",
    "    return simplify(poly)                                        # simplify the polynomial and return it"
   ]
  },
  {
   "cell_type": "code",
   "execution_count": 4,
   "metadata": {},
   "outputs": [
    {
     "data": {
      "image/png": "[encoded data removed]",
      "text/latex": [
       "$$\\frac{x^{3}}{12} - \\frac{9 x^{2}}{8} + \\frac{71 x}{12} - 10$$"
      ],
      "text/plain": [
       " 3      2            \n",
       "x    9⋅x    71⋅x     \n",
       "── - ──── + ──── - 10\n",
       "12    8      12      "
      ]
     },
     "execution_count": 4,
     "metadata": {},
     "output_type": "execute_result"
    }
   ],
   "source": [
    "arr  = np.array([(4, 6, 8, 10), (1, 3, 8, 20)])\n",
    "poly = newtonInterpolation(arr)\n",
    "nsimplify(poly)"
   ]
  },
  {
   "cell_type": "code",
   "execution_count": 5,
   "metadata": {},
   "outputs": [
    {
     "data": {
      "image/png": "[encoded data removed]",
      "text/latex": [
       "$$12.875$$"
      ],
      "text/plain": [
       "12.8750000000000"
      ]
     },
     "execution_count": 5,
     "metadata": {},
     "output_type": "execute_result"
    }
   ],
   "source": [
    "poly.subs(Symbol('x'), 9)"
   ]
  },
  {
   "cell_type": "code",
   "execution_count": null,
   "metadata": {},
   "outputs": [],
   "source": []
  }
 ],
 "metadata": {
  "kernelspec": {
   "display_name": "Python 3",
   "language": "python",
   "name": "python3"
  },
  "language_info": {
   "codemirror_mode": {
    "name": "ipython",
    "version": 3
   },
   "file_extension": ".py",
   "mimetype": "text/x-python",
   "name": "python",
   "nbconvert_exporter": "python",
   "pygments_lexer": "ipython3",
   "version": "3.7.1"
  }
 },
 "nbformat": 4,
 "nbformat_minor": 2
}
