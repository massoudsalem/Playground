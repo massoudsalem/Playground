{
 "cells": [
  {
   "cell_type": "code",
   "execution_count": 1,
   "metadata": {},
   "outputs": [],
   "source": [
    "import numpy as np\n",
    "from sympy import *\n",
    "init_printing()"
   ]
  },
  {
   "cell_type": "code",
   "execution_count": 59,
   "metadata": {},
   "outputs": [],
   "source": [
    "def findLagrangeCoeffs(arr) :\n",
    "    \n",
    "    i = 0\n",
    "    x = Symbol('x')\n",
    "    L = []                                       # list for holding the terms of lagrange\n",
    "    \n",
    "    while i < arr.size :\n",
    "        Lupper = simplify(1)                     # calculating numeratour of lagrange\n",
    "        Llower = 1\n",
    "        for x_i in arr :                         # generating polynomial\n",
    "            \n",
    "            if x_i != arr [i] :                  # whenever x not equal to my x\n",
    "                Lupper = Lupper * (x - x_i)      # (x-xi) * prev-term\n",
    "                Llower = Llower * (arr[i] - x_i)\n",
    "\n",
    "        L.append(nsimplify ( Lupper / Llower ))  # append new coeff.\n",
    "        i += 1\n",
    "        \n",
    "    return L"
   ]
  },
  {
   "cell_type": "code",
   "execution_count": 94,
   "metadata": {},
   "outputs": [],
   "source": [
    "def lagrangePoly(arr) :\n",
    "    coeffsList = findLagrangeCoeffs( L[0] )\n",
    "    \n",
    "    poly = simplify(0)\n",
    "    \n",
    "    for l,y in zip(coeffsList,arr[1]) : # zip for iterating on two lists inparallel\n",
    "        poly = poly+l*y                 # cross each coeff. with it's Y\n",
    "    \n",
    "    return simplify(poly)"
   ]
  },
  {
   "cell_type": "code",
   "execution_count": 95,
   "metadata": {},
   "outputs": [
    {
     "data": {
      "image/png": "[encoded data removed]",
      "text/latex": [
       "$$\\frac{x^{2}}{22} - \\frac{35 x}{88} + \\frac{49}{44}$$"
      ],
      "text/plain": [
       " 2            \n",
       "x    35⋅x   49\n",
       "── - ──── + ──\n",
       "22    88    44"
      ]
     },
     "execution_count": 95,
     "metadata": {},
     "output_type": "execute_result"
    }
   ],
   "source": [
    "L = np.array( [ ( 2 , 2.75 , 4 ) , ( 1/2 , 1/2.75 , 1/4 ) ] ) #this example related to  JDogolasNumericalMethods9E\n",
    "poly = simplify( lagrangePoly(L) )\n",
    "nsimplify(poly)"
   ]
  },
  {
   "cell_type": "code",
   "execution_count": 96,
   "metadata": {},
   "outputs": [
    {
     "data": {
      "image/png": "[encoded data removed]",
      "text/latex": [
       "$$0.329545454545454$$"
      ],
      "text/plain": [
       "0.329545454545454"
      ]
     },
     "execution_count": 96,
     "metadata": {},
     "output_type": "execute_result"
    }
   ],
   "source": [
    "x = Symbol('x')\n",
    "poly.subs(x,3)"
   ]
  }
 ],
 "metadata": {
  "kernelspec": {
   "display_name": "Python 3",
   "language": "python",
   "name": "python3"
  },
  "language_info": {
   "codemirror_mode": {
    "name": "ipython",
    "version": 3
   },
   "file_extension": ".py",
   "mimetype": "text/x-python",
   "name": "python",
   "nbconvert_exporter": "python",
   "pygments_lexer": "ipython3",
   "version": "3.7.1"
  }
 },
 "nbformat": 4,
 "nbformat_minor": 2
}
