{
 "cells": [
  {
   "cell_type": "code",
   "execution_count": 1,
   "metadata": {},
   "outputs": [],
   "source": [
    "import numpy as np\n",
    "from sympy import *\n",
    "init_printing()"
   ]
  },
  {
   "cell_type": "code",
   "execution_count": 2,
   "metadata": {},
   "outputs": [],
   "source": [
    "arr=np.array([[10,   12,  14,  16,  18,  20,  22,  24], \n",
    "              [39.7,30.9,24.9,20.5,17.5,15.1,13.1,11.6]])"
   ]
  },
  {
   "cell_type": "code",
   "execution_count": 3,
   "metadata": {},
   "outputs": [
    {
     "data": {
      "text/plain": [
       "array([10., 12., 14., 16., 18., 20., 22., 24.])"
      ]
     },
     "metadata": {},
     "output_type": "display_data"
    },
    {
     "data": {
      "text/plain": [
       "array([2.30258509, 2.48490665, 2.63905733, 2.77258872, 2.89037176,\n",
       "       2.99573227, 3.09104245, 3.17805383])"
      ]
     },
     "metadata": {},
     "output_type": "display_data"
    },
    {
     "data": {
      "image/png": "[encoded data removed]",
      "text/latex": [
       "$$22.354338109793503$$"
      ],
      "text/plain": [
       "22.354338109793503"
      ]
     },
     "execution_count": 3,
     "metadata": {},
     "output_type": "execute_result"
    }
   ],
   "source": [
    "X=sum(np.log(arr[0]))\n",
    "display(arr[0])\n",
    "display(np.log(arr[0]))\n",
    "X"
   ]
  },
  {
   "cell_type": "code",
   "execution_count": 4,
   "metadata": {},
   "outputs": [
    {
     "data": {
      "image/png": "[encoded data removed]",
      "text/latex": [
       "$$23.94791301428164$$"
      ],
      "text/plain": [
       "23.94791301428164"
      ]
     },
     "execution_count": 4,
     "metadata": {},
     "output_type": "execute_result"
    }
   ],
   "source": [
    "Y=sum(np.log(arr[1]))\n",
    "Y"
   ]
  },
  {
   "cell_type": "code",
   "execution_count": 5,
   "metadata": {},
   "outputs": [
    {
     "data": {
      "image/png": "[encoded data removed]",
      "text/latex": [
       "$$63.111761331035645$$"
      ],
      "text/plain": [
       "63.111761331035645"
      ]
     },
     "execution_count": 5,
     "metadata": {},
     "output_type": "execute_result"
    }
   ],
   "source": [
    "Xsqured=sum(np.power(np.log(arr[0]),2))\n",
    "Xsqured"
   ]
  },
  {
   "cell_type": "code",
   "execution_count": 6,
   "metadata": {},
   "outputs": [
    {
     "data": {
      "image/png": "[encoded data removed]",
      "text/latex": [
       "$$66.0071526466642$$"
      ],
      "text/plain": [
       "66.0071526466642"
      ]
     },
     "execution_count": 6,
     "metadata": {},
     "output_type": "execute_result"
    }
   ],
   "source": [
    "XY=sum(np.log(arr[0])*np.log(arr[1]))\n",
    "XY"
   ]
  },
  {
   "cell_type": "code",
   "execution_count": 7,
   "metadata": {},
   "outputs": [
    {
     "data": {
      "image/png": "[encoded data removed]",
      "text/latex": [
       "$$\\left ( -1.40652838018991, \\quad 6.92374049825838\\right )$$"
      ],
      "text/plain": [
       "(-1.40652838018991, 6.92374049825838)"
      ]
     },
     "execution_count": 7,
     "metadata": {},
     "output_type": "execute_result"
    }
   ],
   "source": [
    "a,b=symbols('a b')\n",
    "eq1=Eq(a*Xsqured+b*X,XY)\n",
    "eq2=Eq(a*X+b*8,Y)\n",
    "A,B=solve([eq1,eq2]).values()\n",
    "A,B"
   ]
  },
  {
   "cell_type": "code",
   "execution_count": 8,
   "metadata": {},
   "outputs": [
    {
     "data": {
      "image/png": "[encoded data removed]",
      "text/latex": [
       "$$P V^{1.40652838018991} = C$$"
      ],
      "text/plain": [
       "   1.40652838018991    \n",
       "P⋅V                 = C"
      ]
     },
     "execution_count": 8,
     "metadata": {},
     "output_type": "execute_result"
    }
   ],
   "source": [
    "p,v,c=symbols('P V C')\n",
    "Eq(p*(v**-A),c)"
   ]
  },
  {
   "cell_type": "code",
   "execution_count": 9,
   "metadata": {},
   "outputs": [
    {
     "data": {
      "text/plain": [
       "array([[30.   , 45.   , 60.   ],\n",
       "       [ 0.225,  0.27 ,  0.52 ]])"
      ]
     },
     "execution_count": 9,
     "metadata": {},
     "output_type": "execute_result"
    }
   ],
   "source": [
    "arr=np.array([[  30,    45,   60]\n",
    "              ,[0.225, 0.27, 0.52]])\n",
    "arr"
   ]
  },
  {
   "cell_type": "code",
   "execution_count": 10,
   "metadata": {},
   "outputs": [
    {
     "data": {
      "text/plain": [
       "array([4.44444444, 3.7037037 , 1.92307692])"
      ]
     },
     "execution_count": 10,
     "metadata": {},
     "output_type": "execute_result"
    }
   ],
   "source": [
    "Y=1/arr[1]\n",
    "Y"
   ]
  },
  {
   "cell_type": "code",
   "execution_count": 11,
   "metadata": {},
   "outputs": [
    {
     "data": {
      "text/plain": [
       "array([0.8660254 , 0.70710678, 0.5       ])"
      ]
     },
     "execution_count": 11,
     "metadata": {},
     "output_type": "execute_result"
    }
   ],
   "source": [
    "X=np.cos(arr[0] * np.pi / 180.)\n",
    "X"
   ]
  },
  {
   "cell_type": "code",
   "execution_count": 12,
   "metadata": {},
   "outputs": [
    {
     "data": {
      "text/plain": [
       "array([0.75, 0.5 , 0.25])"
      ]
     },
     "execution_count": 12,
     "metadata": {},
     "output_type": "execute_result"
    }
   ],
   "source": [
    "Xsq=np.power(X,2)\n",
    "Xsq"
   ]
  },
  {
   "cell_type": "code",
   "execution_count": 13,
   "metadata": {},
   "outputs": [
    {
     "data": {
      "text/plain": [
       "array([3.84900179, 2.618914  , 0.96153846])"
      ]
     },
     "execution_count": 13,
     "metadata": {},
     "output_type": "execute_result"
    }
   ],
   "source": [
    "XY=X*Y\n",
    "XY"
   ]
  },
  {
   "cell_type": "code",
   "execution_count": 14,
   "metadata": {},
   "outputs": [
    {
     "name": "stdout",
     "output_type": "stream",
     "text": [
      "10.071225071225072 2.0731321849709863 1.5000000000000004 7.429454260530587\n",
      "Eq(1.5*a + 2.07313218497099*b, 7.42945426053059)\n",
      "Eq(2.07313218497099*a + 4*b, 10.0712250712251)\n"
     ]
    },
    {
     "data": {
      "image/png": "[encoded data removed]",
      "text/latex": [
       "$$\\left ( 5.19283065769057, \\quad -0.173549824084323\\right )$$"
      ],
      "text/plain": [
       "(5.19283065769057, -0.173549824084323)"
      ]
     },
     "execution_count": 14,
     "metadata": {},
     "output_type": "execute_result"
    }
   ],
   "source": [
    "print(sum(Y),sum(X),sum(Xsq),sum(XY))\n",
    "a,b=symbols('a b')\n",
    "eq1=Eq(a*sum(Xsq)+b*sum(X),sum(XY))\n",
    "eq2=Eq(a*sum(X)+b*4,sum(Y))\n",
    "print(eq1)\n",
    "print(eq2)\n",
    "A,B=solve([eq1,eq2]).values()\n",
    "A,B"
   ]
  },
  {
   "cell_type": "code",
   "execution_count": null,
   "metadata": {},
   "outputs": [],
   "source": []
  }
 ],
 "metadata": {
  "kernelspec": {
   "display_name": "Python 3",
   "language": "python",
   "name": "python3"
  },
  "language_info": {
   "codemirror_mode": {
    "name": "ipython",
    "version": 3
   },
   "file_extension": ".py",
   "mimetype": "text/x-python",
   "name": "python",
   "nbconvert_exporter": "python",
   "pygments_lexer": "ipython3",
   "version": "3.7.1"
  }
 },
 "nbformat": 4,
 "nbformat_minor": 2
}
