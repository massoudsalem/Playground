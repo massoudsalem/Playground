{
 "cells": [
  {
   "cell_type": "code",
   "execution_count": 1,
   "metadata": {},
   "outputs": [],
   "source": [
    "import numpy as np\n",
    "from sympy import *\n",
    "init_printing()"
   ]
  },
  {
   "cell_type": "code",
   "execution_count": 2,
   "metadata": {},
   "outputs": [],
   "source": [
    "def newtonsIterative(fx, p0, tolerance, maxItr) :\n",
    "    x=Symbol('x') \n",
    "    \n",
    "    dfx=fx.diff()                    # differentiate the the given equation Note: the equation must be in x\n",
    "    #pprint(f'xn+1 = xn - {fx/dfx}')\n",
    "    fx=lambdify(x,fx)                # generate a lambda expresssion with evlf\n",
    "    dfx=lambdify(x,dfx)              # generate a lambda expresssion with evlf\n",
    "    \n",
    "    i = 1                            # intial itretable value\n",
    "    while i <= maxItr :              # if the iterations exceeded the max. no. of iterations -> end\n",
    "        p = p0 - fx(p0) / dfx(p0)    # newton's formula\n",
    "        \n",
    "        pprint(f\"x{i} = {p}\")        # print the Xi\n",
    "        if abs(p-p0) < tolerance :\n",
    "            print(f\"*The solution found after {i} iteration and it\\'s at p = {p}.\\n\") # print found after\n",
    "            return                   # end function\n",
    "        \n",
    "        i+=1                         # increase itretable\n",
    "        p0=p                         # get the new point\n",
    "    \n",
    "    print(f\"*Method failed after {i} iterations.\")                                 # in case of not found after n iterations"
   ]
  },
  {
   "cell_type": "code",
   "execution_count": 3,
   "metadata": {},
   "outputs": [
    {
     "name": "stdout",
     "output_type": "stream",
     "text": [
      "x^3-7*x+4\n"
     ]
    },
    {
     "data": {
      "image/png": "[encoded data removed]",
      "text/latex": [
       "$$x_{n+1} = x_{n} - \\frac{x^{3} - 7 x + 4}{3 x^{2} - 7}$$"
      ],
      "text/plain": [
       "             3          \n",
       "            x  - 7⋅x + 4\n",
       "xₙ₊₁ = xₙ - ────────────\n",
       "                 2      \n",
       "              3⋅x  - 7  "
      ]
     },
     "execution_count": 3,
     "metadata": {},
     "output_type": "execute_result"
    }
   ],
   "source": [
    "inEq=simplify(input())\n",
    "Eq(Symbol('x_n+1'),Symbol('x_n')-(inEq/inEq.diff()))"
   ]
  },
  {
   "cell_type": "code",
   "execution_count": 4,
   "metadata": {},
   "outputs": [
    {
     "name": "stdout",
     "output_type": "stream",
     "text": [
      "x1 = 0.5\n",
      "x2 = 0.6\n",
      "x3 = 0.6027027027027027\n",
      "x4 = 0.6027049307013911\n",
      "x5 = 0.6027049307029095\n",
      "*The solution found after 5 iteration and it's at p = 0.6027049307029095.\n",
      "\n"
     ]
    }
   ],
   "source": [
    "newtonsIterative(inEq,1,1e-10,100)"
   ]
  },
  {
   "cell_type": "code",
   "execution_count": null,
   "metadata": {},
   "outputs": [],
   "source": []
  }
 ],
 "metadata": {
  "kernelspec": {
   "display_name": "Python 3",
   "language": "python",
   "name": "python3"
  },
  "language_info": {
   "codemirror_mode": {
    "name": "ipython",
    "version": 3
   },
   "file_extension": ".py",
   "mimetype": "text/x-python",
   "name": "python",
   "nbconvert_exporter": "python",
   "pygments_lexer": "ipython3",
   "version": "3.7.1"
  }
 },
 "nbformat": 4,
 "nbformat_minor": 2
}
