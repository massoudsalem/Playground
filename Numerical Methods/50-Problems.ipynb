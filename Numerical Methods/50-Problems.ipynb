{
 "cells": [
  {
   "cell_type": "code",
   "execution_count": 1,
   "metadata": {},
   "outputs": [],
   "source": [
    "from sympy import *\n",
    "import numpy as np\n",
    "init_printing() #fancy printing\n",
    "x,y,z=symbols(\"x y z\")\n",
    "def simpsonRule(a,b,h,problem,var):\n",
    "    print(problem)\n",
    "    problem=lambdify(y, problem, \"numpy\")\n",
    "    arr=np.arange(a,b,h)\n",
    "    print(arr)\n",
    "    problem=problem(arr)\n",
    "    print(problem)\n",
    "    odds=problem[1:-1:2]\n",
    "    evens=problem[2:-1:2]\n",
    "    integralValue=(h/3)*(problem[0]+problem[-1]+4*sum(odds)+2*sum(evens))\n",
    "    return integralValue\n",
    "def trapozidalRule(a,b,h,problem,var):\n",
    "    print(problem)\n",
    "    problem=lambdify(y, problem, \"numpy\")\n",
    "    arr=np.arange(a,b,h)\n",
    "    problem=problem(arr)\n",
    "    print(problem)\n",
    "    #print(problem[1:-1])\n",
    "    integralValue=(h/2)*(problem[0]+problem[-1]+2*sum(problem[1:-1]))\n",
    "    return integralValue"
   ]
  },
  {
   "cell_type": "code",
   "execution_count": 10,
   "metadata": {},
   "outputs": [
    {
     "name": "stdout",
     "output_type": "stream",
     "text": [
      "y**3*sin(y)\n",
      "[  0.           0.28756635   3.36654558   8.86274001   3.81024022\n",
      " -30.14092892]\n"
     ]
    },
    {
     "data": {
      "image/png": "[encoded data removed]",
      "text/latex": [
       "$$0.9424707739235831$$"
      ],
      "text/plain": [
       "0.9424707739235831"
      ]
     },
     "execution_count": 10,
     "metadata": {},
     "output_type": "execute_result"
    }
   ],
   "source": [
    "h=0.75\n",
    "a=0\n",
    "b=9/2\n",
    "problem1=simplify(y**3*sin(y))\n",
    "#simpsonRule(a,b,h,problem1,y)\n",
    "trapozidalRule(a,b,h,problem1,y)"
   ]
  },
  {
   "cell_type": "code",
   "execution_count": 12,
   "metadata": {},
   "outputs": [
    {
     "name": "stdout",
     "output_type": "stream",
     "text": [
      "1/sqrt(-0.25*sin(y) + 1)\n",
      "[1.         1.05156649 1.10215118 1.14032416]\n"
     ]
    },
    {
     "data": {
      "image/png": "[encoded data removed]",
      "text/latex": [
       "$$1.266014618131327$$"
      ],
      "text/plain": [
       "1.266014618131327"
      ]
     },
     "execution_count": 12,
     "metadata": {},
     "output_type": "execute_result"
    }
   ],
   "source": [
    "a=0\n",
    "b=np.pi/2\n",
    "n=4\n",
    "h=(b-a)/n\n",
    "problem2=simplify(1/(sqrt(1-(0.25*sin(y)))))\n",
    "#simpsonRule(a,b,h,problem2,y)\n",
    "trapozidalRule(a,b,h,problem2,y)"
   ]
  },
  {
   "cell_type": "code",
   "execution_count": 17,
   "metadata": {},
   "outputs": [
    {
     "data": {
      "image/png": "[encoded data removed]",
      "text/latex": [
       "$$705.0$$"
      ],
      "text/plain": [
       "705.0"
      ]
     },
     "execution_count": 17,
     "metadata": {},
     "output_type": "execute_result"
    }
   ],
   "source": [
    "h=10\n",
    "problem3=np.array([0,4,7,9,12,15,14,8,3])\n",
    "odds=problem3[1:-1:2]\n",
    "evens=problem3[2:-1:2]\n",
    "integralValue=(h/3)*(problem3[0]+problem3[-1]+4*sum(odds)+2*sum(evens))\n",
    "tar=(h/2)*(problem3[0]+problem3[-1]+2*sum(problem3[1:-1]))\n",
    "#integralValue\n",
    "tar"
   ]
  },
  {
   "cell_type": "code",
   "execution_count": 15,
   "metadata": {},
   "outputs": [
    {
     "name": "stdout",
     "output_type": "stream",
     "text": [
      "y*sqrt(-y**3 + 8)\n",
      "[0.   0.25 0.5  0.75 1.   1.25 1.5  1.75]\n",
      "[0.         0.70641591 1.40312152 2.06462958 2.64575131 3.07379931\n",
      " 3.22587198 2.84375   ]\n"
     ]
    },
    {
     "data": {
      "image/png": "[encoded data removed]",
      "text/latex": [
       "$$3.3977182345001378$$"
      ],
      "text/plain": [
       "3.3977182345001378"
      ]
     },
     "execution_count": 15,
     "metadata": {},
     "output_type": "execute_result"
    }
   ],
   "source": [
    "a=0\n",
    "b=2\n",
    "n=8\n",
    "h=(b-a)/n\n",
    "problem4=simplify(y*(sqrt(8-y**3)))\n",
    "simpsonRule(a,b,h,problem4,y)\n",
    "#trapozidalRule(a,b,h,problem4,y)"
   ]
  },
  {
   "cell_type": "code",
   "execution_count": 6,
   "metadata": {},
   "outputs": [
    {
     "name": "stdout",
     "output_type": "stream",
     "text": [
      "log(2*y**2 + 1)\n",
      "[0.  0.2 0.4 0.6 0.8 1.  1.2 1.4 1.6 1.8]\n",
      "[0.         0.07696104 0.27763174 0.54232429 0.82417544 1.09861229\n",
      " 1.35583515 1.59330853 1.8115621  2.01223279]\n"
     ]
    },
    {
     "data": {
      "image/png": "[encoded data removed]",
      "text/latex": [
       "$$1.5863644170646496$$"
      ],
      "text/plain": [
       "1.5863644170646496"
      ]
     },
     "execution_count": 6,
     "metadata": {},
     "output_type": "execute_result"
    }
   ],
   "source": [
    "a=0\n",
    "b=2\n",
    "h=0.2\n",
    "problem6=simplify(ln(2*y**2+1))\n",
    "simpsonRule(a,b,h,problem6,y)\n",
    "#trapozidalRule(a,b,h,problem6,y)"
   ]
  }
 ],
 "metadata": {
  "kernelspec": {
   "display_name": "Python 3",
   "language": "python",
   "name": "python3"
  },
  "language_info": {
   "codemirror_mode": {
    "name": "ipython",
    "version": 3
   },
   "file_extension": ".py",
   "mimetype": "text/x-python",
   "name": "python",
   "nbconvert_exporter": "python",
   "pygments_lexer": "ipython3",
   "version": "3.7.1"
  }
 },
 "nbformat": 4,
 "nbformat_minor": 2
}
